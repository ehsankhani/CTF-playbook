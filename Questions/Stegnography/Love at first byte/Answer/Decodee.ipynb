{
  "cells": [
    {
      "cell_type": "code",
      "execution_count": 1,
      "metadata": {
        "colab": {
          "base_uri": "https://localhost:8080/",
          "height": 529
        },
        "id": "ycrWToNszSX_",
        "outputId": "91978713-1fc2-46fb-cb0e-f98f5cb1f482"
      },
      "outputs": [
        {
          "name": "stdout",
          "output_type": "stream",
          "text": [
            "Collecting stegano\n",
            "  Downloading stegano-1.0.1-py3-none-any.whl.metadata (4.3 kB)\n",
            "Collecting crayons>=0.4.0 (from stegano)\n",
            "  Downloading crayons-0.4.0-py2.py3-none-any.whl.metadata (2.8 kB)\n",
            "Requirement already satisfied: opencv-python>=4.8.1.78 in /usr/local/lib/python3.11/dist-packages (from stegano) (4.11.0.86)\n",
            "Collecting piexif>=1.1.3 (from stegano)\n",
            "  Downloading piexif-1.1.3-py2.py3-none-any.whl.metadata (3.7 kB)\n",
            "Collecting pillow<11.0,>=9.5 (from stegano)\n",
            "  Downloading pillow-10.4.0-cp311-cp311-manylinux_2_28_x86_64.whl.metadata (9.2 kB)\n",
            "Collecting colorama (from crayons>=0.4.0->stegano)\n",
            "  Downloading colorama-0.4.6-py2.py3-none-any.whl.metadata (17 kB)\n",
            "Requirement already satisfied: numpy>=1.21.2 in /usr/local/lib/python3.11/dist-packages (from opencv-python>=4.8.1.78->stegano) (2.0.2)\n",
            "Downloading stegano-1.0.1-py3-none-any.whl (33 kB)\n",
            "Downloading crayons-0.4.0-py2.py3-none-any.whl (4.6 kB)\n",
            "Downloading piexif-1.1.3-py2.py3-none-any.whl (20 kB)\n",
            "Downloading pillow-10.4.0-cp311-cp311-manylinux_2_28_x86_64.whl (4.5 MB)\n",
            "\u001b[2K   \u001b[90m━━━━━━━━━━━━━━━━━━━━━━━━━━━━━━━━━━━━━━━━\u001b[0m \u001b[32m4.5/4.5 MB\u001b[0m \u001b[31m57.3 MB/s\u001b[0m eta \u001b[36m0:00:00\u001b[0m\n",
            "\u001b[?25hDownloading colorama-0.4.6-py2.py3-none-any.whl (25 kB)\n",
            "Installing collected packages: pillow, piexif, colorama, crayons, stegano\n",
            "  Attempting uninstall: pillow\n",
            "    Found existing installation: pillow 11.2.1\n",
            "    Uninstalling pillow-11.2.1:\n",
            "      Successfully uninstalled pillow-11.2.1\n",
            "Successfully installed colorama-0.4.6 crayons-0.4.0 piexif-1.1.3 pillow-10.4.0 stegano-1.0.1\n"
          ]
        },
        {
          "name": "stdout",
          "output_type": "stream",
          "text": []
        }
      ],
      "source": [
        "pip install stegano"
      ]
    },
    {
      "cell_type": "code",
      "execution_count": 3,
      "metadata": {
        "colab": {
          "base_uri": "https://localhost:8080/"
        },
        "id": "StVEoHYsZi2t",
        "outputId": "6b764d4a-0e74-45a9-96e8-7bb982e8a5d3"
      },
      "outputs": [
        {
          "name": "stdout",
          "output_type": "stream",
          "text": [
            "Hidden flag: UUT_CTF_2025{You+Me = Forever}\n"
          ]
        }
      ],
      "source": [
        "from stegano import lsb\n",
        "\n",
        "retrieved_flag = lsb.reveal(\"encoded_image.png\")\n",
        "print(\"Hidden flag:\", retrieved_flag)"
      ]
    },
    {
      "cell_type": "code",
      "execution_count": null,
      "metadata": {
        "id": "23xYbuhPZjmd"
      },
      "outputs": [],
      "source": []
    }
  ],
  "metadata": {
    "colab": {
      "provenance": []
    },
    "kernelspec": {
      "display_name": "Python 3",
      "name": "python3"
    },
    "language_info": {
      "name": "python"
    }
  },
  "nbformat": 4,
  "nbformat_minor": 0
}
